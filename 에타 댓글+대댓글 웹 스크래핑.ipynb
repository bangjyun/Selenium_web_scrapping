{
 "cells": [
  {
   "cell_type": "markdown",
   "id": "6dcc141a",
   "metadata": {},
   "source": [
    "## 에브리타임 글 + 댓글 스크래핑"
   ]
  },
  {
   "cell_type": "markdown",
   "id": "6307d633",
   "metadata": {},
   "source": [
    "### 새내기 게시판"
   ]
  },
  {
   "cell_type": "markdown",
   "id": "3e1c76b2",
   "metadata": {},
   "source": [
    "#### 세팅"
   ]
  },
  {
   "cell_type": "markdown",
   "id": "5366fef8",
   "metadata": {},
   "source": [
    "#### 새내기 게시판 댓글"
   ]
  },
  {
   "cell_type": "markdown",
   "id": "fb5a49fb",
   "metadata": {},
   "source": [
    "###  동아리-학회 게시판"
   ]
  },
  {
   "cell_type": "code",
   "execution_count": null,
   "id": "1d87c78b",
   "metadata": {
    "ExecuteTime": {
     "end_time": "2022-03-03T20:27:44.221824Z",
     "start_time": "2022-03-03T20:27:42.660035Z"
    }
   },
   "outputs": [
    {
     "name": "stderr",
     "output_type": "stream",
     "text": [
      "C:\\Users\\Bang\\AppData\\Local\\Temp/ipykernel_41080/1575189306.py:5: DeprecationWarning: executable_path has been deprecated, please pass in a Service object\n",
      "  browser = webdriver.Chrome(\"C:/Users/Bang/Desktop/chat/chromedriver.exe\")\n"
     ]
    }
   ],
   "source": [
    "from selenium import webdriver\n",
    "import time\n",
    "import pandas as pd\n",
    "\n",
    "browser = webdriver.Chrome(\"~/chromedriver.exe\")\n",
    "browser.get(\"https://everytime.kr/418796\")"
   ]
  },
  {
   "cell_type": "code",
   "execution_count": null,
   "id": "fb53362b",
   "metadata": {},
   "outputs": [],
   "source": [
    "from selenium import webdriver\n",
    "import time\n",
    "import pandas as pd\n",
    "\n",
    "# 로그인\n",
    "browser.find_element_by_xpath(\"//*[@id='container']/form/p[1]/input\").send_keys(\"idd\")  # 자신의 에브리타임 ID\n",
    "browser.find_element_by_xpath(\"//*[@id='container']/form/p[2]/input\").send_keys(\"passworddd\") # 자신의 에브리타임PW\n",
    "browser.find_element_by_xpath(\"//*[@id='container']/form/p[3]/input\").click()\n",
    "\n",
    "browser.implicitly_wait(10)\n",
    "f = open(\"test_data3.csv\",'w',encoding = 'utf-8')\n",
    "# 한 글 수집\n",
    "page = 1\n",
    "\n",
    "while(page<560): \n",
    "    for row in range(1,21):\n",
    "            time.sleep(0.1)\n",
    "            xp = \"//*[@id='container']/div[3]/article[{}]/a/p\".format(row)\n",
    "            content = browser.find_element_by_xpath(xp)\n",
    "            arr=''\n",
    "            # 질문 추출\n",
    "            if(content.text.find('?')!=-1):\n",
    "                # 댓글 개수 이용\n",
    "                count =  browser.find_element_by_xpath('//*[@id=\"container\"]/div[3]/article[{}]/a/ul/li[2]'.format(row))\n",
    "                c = int(count.text)\n",
    "                time.sleep(0.05)\n",
    "                con = content.text\n",
    "                con = con.replace('\\n','')\n",
    "                arr = arr + con +'\\t'\n",
    "                content.click()\n",
    "                time.sleep(0.2)\n",
    "\n",
    "                # 댓글 수집\n",
    "                for i in range(1,c+1):\n",
    "                    path = \"//*[@id='container']/div[3]/article/div/article[{}]/p\".format(i)\n",
    "                    time.sleep(0.1)\n",
    "                    comment =  browser.find_element_by_xpath(path).text\n",
    "                    arr = arr + comment+'\\t'\n",
    "                browser.find_element_by_id(\"goListButton\").click()\n",
    "                arr = arr+'\\n'\n",
    "                f.write(arr)\n",
    "    page += 1\n",
    "    browser.get('https://everytime.kr/385892/p/{}'.format(page))\n",
    "    time.sleep(0.1)\n",
    "f.close()\n",
    "\n",
    "\n",
    "       \n",
    "    \n"
   ]
  },
  {
   "cell_type": "code",
   "execution_count": null,
   "id": "4670b101",
   "metadata": {},
   "outputs": [],
   "source": [
    "# 로그인\n",
    "browser.find_element_by_xpath(\"//*[@id='container']/form/p[1]/input\").send_keys(\"idd\")  # 자신의 에브리타임 ID\n",
    "browser.find_element_by_xpath(\"//*[@id='container']/form/p[2]/input\").send_keys(\"passworddd\") # 자신의 에브리타임PW\n",
    "browser.find_element_by_xpath(\"//*[@id='container']/form/p[3]/input\").click()"
   ]
  },
  {
   "cell_type": "code",
   "execution_count": null,
   "id": "07168476",
   "metadata": {},
   "outputs": [],
   "source": [
    "browser.implicitly_wait(3)\n",
    "f = open(\"교내 동아리.csv\",'w',encoding = 'utf-8')\n",
    "# 한 글 수집\n",
    "page = 1\n",
    "\n",
    "while(page<2): \n",
    "    for row in range(1,21):\n",
    "            time.sleep(0.1)\n",
    "            xp = \"//*[@id='container']/div[3]/article[{}]/a/p\".format(row)\n",
    "            content = browser.find_element_by_xpath(xp)\n",
    "            arr=''\n",
    "            # 질문 추출\n",
    "            if(content.text.find('?')!=-1):\n",
    "                \n",
    "                # 댓글 개수 이용\n",
    "                count =  browser.find_element_by_xpath('//*[@id=\"container\"]/div[3]/article[{}]/a/ul/li[2]'.format(row))\n",
    "                c = int(count.text)\n",
    "                time.sleep(0.05)\n",
    "                con = content.text\n",
    "                con = con.replace('\\n','')\n",
    "                arr = arr + con +'\\t'\n",
    "               \n",
    "                content.click()\n",
    "                time.sleep(0.2)\n",
    "\n",
    "                # 댓글 수집\n",
    "                for i in range(1,c+1):\n",
    "                    path = \"//*[@id='container']/div[3]/article/div/article[{}]/p\".format(i)\n",
    "                    time.sleep(0.1)\n",
    "                    comment =  browser.find_element_by_xpath(path).text\n",
    "                   \n",
    "                   \n",
    "                    arr = arr + comment+'\\t'\n",
    "                    \n",
    "                browser.find_element_by_id(\"goListButton\").click()\n",
    "                \n",
    "                arr = arr+'\\n'\n",
    "                f.write(arr)\n",
    "\n",
    "    page += 1\n",
    "    browser.get('https://everytime.kr/385892/p/{}'.format(page))\n",
    "    time.sleep(0.1)\n",
    "f.close()\n"
   ]
  },
  {
   "cell_type": "code",
   "execution_count": 31,
   "id": "c3d6b6d7",
   "metadata": {
    "ExecuteTime": {
     "end_time": "2022-03-10T02:17:11.876145Z",
     "start_time": "2022-03-10T02:05:49.779883Z"
    }
   },
   "outputs": [
    {
     "name": "stderr",
     "output_type": "stream",
     "text": [
      "C:\\Users\\Bang\\AppData\\Local\\Temp/ipykernel_12124/3220944668.py:9: DeprecationWarning: find_element_by_xpath is deprecated. Please use find_element(by=By.XPATH, value=xpath) instead\n",
      "  content = browser.find_element_by_xpath(xp)\n"
     ]
    }
   ],
   "source": [
    "browser.implicitly_wait(15)\n",
    "f = open(\"train6.txt\",'w',encoding = 'utf-8')\n",
    "# 한 글 수집\n",
    "page = 1700\n",
    "\n",
    "while(page<2500): \n",
    "    for row in range(1,21):\n",
    "            xp = \"//*[@id='container']/div[3]/article[{}]/a/p\".format(row)\n",
    "            content = browser.find_element_by_xpath(xp)\n",
    "            arr=''\n",
    "            con = content.text\n",
    "            con = con.replace('\\n','')\n",
    "            f.write(con)  \n",
    "            f.write('  ')\n",
    "    page += 1\n",
    "    browser.get('https://everytime.kr/385892/p/{}'.format(page))\n",
    "f.close()\n"
   ]
  },
  {
   "cell_type": "code",
   "execution_count": null,
   "id": "be9d05ba",
   "metadata": {},
   "outputs": [],
   "source": []
  }
 ],
 "metadata": {
  "kernelspec": {
   "display_name": "test01",
   "language": "python",
   "name": "python3"
  },
  "language_info": {
   "codemirror_mode": {
    "name": "ipython",
    "version": 3
   },
   "file_extension": ".py",
   "mimetype": "text/x-python",
   "name": "python",
   "nbconvert_exporter": "python",
   "pygments_lexer": "ipython3",
   "version": "3.8.16"
  },
  "toc": {
   "base_numbering": 1,
   "nav_menu": {},
   "number_sections": true,
   "sideBar": true,
   "skip_h1_title": false,
   "title_cell": "Table of Contents",
   "title_sidebar": "Contents",
   "toc_cell": false,
   "toc_position": {},
   "toc_section_display": true,
   "toc_window_display": false
  },
  "varInspector": {
   "cols": {
    "lenName": 16,
    "lenType": 16,
    "lenVar": 40
   },
   "kernels_config": {
    "python": {
     "delete_cmd_postfix": "",
     "delete_cmd_prefix": "del ",
     "library": "var_list.py",
     "varRefreshCmd": "print(var_dic_list())"
    },
    "r": {
     "delete_cmd_postfix": ") ",
     "delete_cmd_prefix": "rm(",
     "library": "var_list.r",
     "varRefreshCmd": "cat(var_dic_list()) "
    }
   },
   "types_to_exclude": [
    "module",
    "function",
    "builtin_function_or_method",
    "instance",
    "_Feature"
   ],
   "window_display": false
  }
 },
 "nbformat": 4,
 "nbformat_minor": 5
}
